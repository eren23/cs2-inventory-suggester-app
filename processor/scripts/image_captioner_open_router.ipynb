{
  "nbformat": 4,
  "nbformat_minor": 0,
  "metadata": {
    "colab": {
      "provenance": []
    },
    "kernelspec": {
      "name": "python3",
      "display_name": "Python 3"
    },
    "language_info": {
      "name": "python"
    }
  },
  "cells": [
    {
      "cell_type": "code",
      "execution_count": 1,
      "metadata": {
        "colab": {
          "base_uri": "https://localhost:8080/"
        },
        "id": "KjJeBfvJunZz",
        "outputId": "e0b2d790-17d3-4dbe-9024-5aab2fb3e021"
      },
      "outputs": [
        {
          "output_type": "stream",
          "name": "stdout",
          "text": [
            "Collecting openai\n",
            "  Downloading openai-1.40.1-py3-none-any.whl.metadata (22 kB)\n",
            "Requirement already satisfied: anyio<5,>=3.5.0 in /usr/local/lib/python3.10/dist-packages (from openai) (3.7.1)\n",
            "Requirement already satisfied: distro<2,>=1.7.0 in /usr/lib/python3/dist-packages (from openai) (1.7.0)\n",
            "Collecting httpx<1,>=0.23.0 (from openai)\n",
            "  Downloading httpx-0.27.0-py3-none-any.whl.metadata (7.2 kB)\n",
            "Collecting jiter<1,>=0.4.0 (from openai)\n",
            "  Downloading jiter-0.5.0-cp310-cp310-manylinux_2_17_x86_64.manylinux2014_x86_64.whl.metadata (3.6 kB)\n",
            "Requirement already satisfied: pydantic<3,>=1.9.0 in /usr/local/lib/python3.10/dist-packages (from openai) (2.8.2)\n",
            "Requirement already satisfied: sniffio in /usr/local/lib/python3.10/dist-packages (from openai) (1.3.1)\n",
            "Requirement already satisfied: tqdm>4 in /usr/local/lib/python3.10/dist-packages (from openai) (4.66.5)\n",
            "Requirement already satisfied: typing-extensions<5,>=4.11 in /usr/local/lib/python3.10/dist-packages (from openai) (4.12.2)\n",
            "Requirement already satisfied: idna>=2.8 in /usr/local/lib/python3.10/dist-packages (from anyio<5,>=3.5.0->openai) (3.7)\n",
            "Requirement already satisfied: exceptiongroup in /usr/local/lib/python3.10/dist-packages (from anyio<5,>=3.5.0->openai) (1.2.2)\n",
            "Requirement already satisfied: certifi in /usr/local/lib/python3.10/dist-packages (from httpx<1,>=0.23.0->openai) (2024.7.4)\n",
            "Collecting httpcore==1.* (from httpx<1,>=0.23.0->openai)\n",
            "  Downloading httpcore-1.0.5-py3-none-any.whl.metadata (20 kB)\n",
            "Collecting h11<0.15,>=0.13 (from httpcore==1.*->httpx<1,>=0.23.0->openai)\n",
            "  Downloading h11-0.14.0-py3-none-any.whl.metadata (8.2 kB)\n",
            "Requirement already satisfied: annotated-types>=0.4.0 in /usr/local/lib/python3.10/dist-packages (from pydantic<3,>=1.9.0->openai) (0.7.0)\n",
            "Requirement already satisfied: pydantic-core==2.20.1 in /usr/local/lib/python3.10/dist-packages (from pydantic<3,>=1.9.0->openai) (2.20.1)\n",
            "Downloading openai-1.40.1-py3-none-any.whl (360 kB)\n",
            "\u001b[2K   \u001b[90m━━━━━━━━━━━━━━━━━━━━━━━━━━━━━━━━━━━━━━━━\u001b[0m \u001b[32m360.4/360.4 kB\u001b[0m \u001b[31m7.4 MB/s\u001b[0m eta \u001b[36m0:00:00\u001b[0m\n",
            "\u001b[?25hDownloading httpx-0.27.0-py3-none-any.whl (75 kB)\n",
            "\u001b[2K   \u001b[90m━━━━━━━━━━━━━━━━━━━━━━━━━━━━━━━━━━━━━━━━\u001b[0m \u001b[32m75.6/75.6 kB\u001b[0m \u001b[31m2.7 MB/s\u001b[0m eta \u001b[36m0:00:00\u001b[0m\n",
            "\u001b[?25hDownloading httpcore-1.0.5-py3-none-any.whl (77 kB)\n",
            "\u001b[2K   \u001b[90m━━━━━━━━━━━━━━━━━━━━━━━━━━━━━━━━━━━━━━━━\u001b[0m \u001b[32m77.9/77.9 kB\u001b[0m \u001b[31m3.5 MB/s\u001b[0m eta \u001b[36m0:00:00\u001b[0m\n",
            "\u001b[?25hDownloading jiter-0.5.0-cp310-cp310-manylinux_2_17_x86_64.manylinux2014_x86_64.whl (318 kB)\n",
            "\u001b[2K   \u001b[90m━━━━━━━━━━━━━━━━━━━━━━━━━━━━━━━━━━━━━━━━\u001b[0m \u001b[32m318.9/318.9 kB\u001b[0m \u001b[31m9.4 MB/s\u001b[0m eta \u001b[36m0:00:00\u001b[0m\n",
            "\u001b[?25hDownloading h11-0.14.0-py3-none-any.whl (58 kB)\n",
            "\u001b[2K   \u001b[90m━━━━━━━━━━━━━━━━━━━━━━━━━━━━━━━━━━━━━━━━\u001b[0m \u001b[32m58.3/58.3 kB\u001b[0m \u001b[31m2.6 MB/s\u001b[0m eta \u001b[36m0:00:00\u001b[0m\n",
            "\u001b[?25hInstalling collected packages: jiter, h11, httpcore, httpx, openai\n",
            "Successfully installed h11-0.14.0 httpcore-1.0.5 httpx-0.27.0 jiter-0.5.0 openai-1.40.1\n"
          ]
        }
      ],
      "source": [
        "!pip install openai"
      ]
    },
    {
      "cell_type": "code",
      "source": [
        "from google.colab import userdata\n",
        "o_router_key=userdata.get('open_router_test')"
      ],
      "metadata": {
        "id": "orjSgaduwHA4"
      },
      "execution_count": 2,
      "outputs": []
    },
    {
      "cell_type": "code",
      "source": [
        "from openai import OpenAI\n",
        "from os import getenv\n",
        "\n",
        "# gets API Key from environment variable OPENAI_API_KEY\n",
        "client = OpenAI(\n",
        "  base_url=\"https://openrouter.ai/api/v1\",\n",
        "  api_key=o_router_key\n",
        ")"
      ],
      "metadata": {
        "id": "eFXNLy41v4gh"
      },
      "execution_count": 3,
      "outputs": []
    },
    {
      "cell_type": "code",
      "source": [
        "system_prompt = '''\n",
        "You are a well equiped cs2/csgo item describer, your goal is to define cs2 skins and weapons in the screen in as much detail as possible, main focus is the color, theme, lore, story and all sorts of visual aspects.\n",
        "'''\n",
        "\n",
        "def analyze_image(img_url):\n",
        "    response = client.chat.completions.create(\n",
        "    model=\"gpt-4o-mini\",\n",
        "    # model=\"fireworks/firellava-13b\",\n",
        "    messages=[\n",
        "        {\n",
        "            \"role\": \"system\",\n",
        "            \"content\": system_prompt\n",
        "        },\n",
        "        {\n",
        "            \"role\": \"user\",\n",
        "            \"content\": [\n",
        "                {\n",
        "                    \"type\": \"image_url\",\n",
        "                    \"image_url\": {\n",
        "                        \"url\": img_url,\n",
        "                    }\n",
        "                },\n",
        "            ],\n",
        "        },\n",
        "        {\n",
        "            \"role\": \"user\",\n",
        "            \"content\": \"Define the given counter strike item standing infront of the screen or being held by a game character, colors, theme and all sorts of visual aspects. You don't need to count them one by one but as a general review. Do not lean towards your previous knowledge about item types, just describe it like you've no prior knowledge about skins, you can still use your history and mythological knowledge though. Do not focus on the background or the holder, just describe the item in question.\"\n",
        "        }\n",
        "    ],\n",
        "        max_tokens=125,\n",
        "        top_p=0.1\n",
        "    )\n",
        "\n",
        "    return response.choices[0].message.content"
      ],
      "metadata": {
        "id": "C4Elx0bhu_P9"
      },
      "execution_count": 35,
      "outputs": []
    },
    {
      "cell_type": "code",
      "source": [
        "analyze_image(\"https://images.waxpeer.com/screenshot/items/37022837531_front_auto_1713616294403.webp\")"
      ],
      "metadata": {
        "colab": {
          "base_uri": "https://localhost:8080/",
          "height": 71
        },
        "id": "B0XE_o1owUNO",
        "outputId": "aa25edb1-5095-4bc4-b612-324c69369724"
      },
      "execution_count": 28,
      "outputs": [
        {
          "output_type": "execute_result",
          "data": {
            "text/plain": [
              "\"The item presented is a sniper rifle, characterized by a sleek and elongated design that emphasizes precision and power. The body of the rifle is predominantly a deep, rich blue, reminiscent of the ocean depths, which creates a striking contrast against the metallic silver components, such as the barrel and scope.\\n\\nIntricate designs adorn the rifle's surface, featuring swirling patterns that evoke the movement of water or tentacles, suggesting a connection to the sea. These patterns are highlighted with shades of green and purple, adding depth and a sense of mystique. The artwork includes a prominent face, possibly inspired by mythological figures, with flowing hair that\""
            ],
            "application/vnd.google.colaboratory.intrinsic+json": {
              "type": "string"
            }
          },
          "metadata": {},
          "execution_count": 28
        }
      ]
    },
    {
      "cell_type": "code",
      "source": [
        "# mount drive\n",
        "\n",
        "from google.colab import drive\n",
        "drive.mount('/content/drive')"
      ],
      "metadata": {
        "colab": {
          "base_uri": "https://localhost:8080/"
        },
        "id": "xLvNb3WjwdbH",
        "outputId": "e1838928-b5a7-42e3-d1e5-fd7cbf57953c"
      },
      "execution_count": 29,
      "outputs": [
        {
          "output_type": "stream",
          "name": "stdout",
          "text": [
            "Mounted at /content/drive\n"
          ]
        }
      ]
    },
    {
      "cell_type": "code",
      "source": [
        "# copy dir from drive to here\n",
        "\n",
        "import shutil\n",
        "\n",
        "shutil.copy(\"/content/drive/MyDrive/cs_images/images.zip\", \"/content/images.zip\")"
      ],
      "metadata": {
        "colab": {
          "base_uri": "https://localhost:8080/",
          "height": 36
        },
        "id": "5CxmGDRszsao",
        "outputId": "b388b86c-3a83-46c7-d83c-ff00dac715aa"
      },
      "execution_count": 31,
      "outputs": [
        {
          "output_type": "execute_result",
          "data": {
            "text/plain": [
              "'/content/images.zip'"
            ],
            "application/vnd.google.colaboratory.intrinsic+json": {
              "type": "string"
            }
          },
          "metadata": {},
          "execution_count": 31
        }
      ]
    },
    {
      "cell_type": "code",
      "source": [
        "!unzip images.zip"
      ],
      "metadata": {
        "id": "1Gub4l-T0MpT"
      },
      "execution_count": null,
      "outputs": []
    },
    {
      "cell_type": "code",
      "source": [
        "import json\n",
        "import requests\n",
        "from bs4 import BeautifulSoup\n",
        "import time\n",
        "import os\n",
        "import argparse\n",
        "from PIL import Image\n",
        "from io import BytesIO\n",
        "\n",
        "HEADERS = {\n",
        "    \"User-Agent\": \"Mozilla/5.0 (Windows NT 10.0; Win64; x64) AppleWebKit/537.36 (KHTML, like Gecko) Chrome/58.0.3029.110 Safari/537.3\"\n",
        "}\n",
        "DELAY = 0.7\n",
        "SAVE_DIR = \"csgoskins/images\"\n",
        "ANALYSIS_FILE = \"csgoskins/image_analysis.json\"\n",
        "\n",
        "def read_filtered_items(file_path):\n",
        "    with open(file_path, \"r\") as file:\n",
        "        return json.load(file)\n",
        "\n",
        "def fetch_image_urls(item_name, base_url):\n",
        "    def fetch_url(url):\n",
        "        response = requests.get(url, headers=HEADERS)\n",
        "        response.raise_for_status()\n",
        "        return BeautifulSoup(response.content, \"html.parser\")\n",
        "\n",
        "    def is_valid_page(soup):\n",
        "        return not soup.select_one(\"h1:-soup-contains('Page Not Found')\")\n",
        "\n",
        "    try:\n",
        "        soup = fetch_url(base_url)\n",
        "        if not is_valid_page(soup):\n",
        "            return []  # Return empty list if page is not valid\n",
        "\n",
        "        # Find the first image in the gallery\n",
        "        image_element = soup.select_one(\"img.gallery-image\")\n",
        "        return image_element[\"data-download-url\"] if image_element and \"data-download-url\" in image_element.attrs else None\n",
        "    except requests.RequestException as e:\n",
        "        print(f\"Request error for {item_name}: {e}\")\n",
        "    except Exception as e:\n",
        "        print(f\"Error processing {item_name}: {e}\")\n",
        "    return None\n",
        "\n",
        "def download_image(image_url, save_path, quality=30, max_size=(800, 800)):\n",
        "    try:\n",
        "        response = requests.get(image_url, headers=HEADERS)\n",
        "        response.raise_for_status()\n",
        "\n",
        "        # Open the image and process it\n",
        "        img = Image.open(BytesIO(response.content))\n",
        "        img.thumbnail(max_size, Image.ANTIALIAS)\n",
        "        img.save(save_path, format=\"PNG\", quality=quality)\n",
        "\n",
        "        print(f\"Downloaded and resized image to {save_path}\")\n",
        "    except requests.RequestException as e:\n",
        "        print(f\"Request error for image {image_url}: {e}\")\n",
        "    except Exception as e:\n",
        "        print(f\"Error downloading image {image_url}: {e}\")\n",
        "\n",
        "def save_analysis_results(results, file_path):\n",
        "    with open(file_path, \"w\") as file:\n",
        "        json.dump(results, file, indent=4)\n",
        "\n",
        "def main(scrape_stickers):\n",
        "    items = read_filtered_items(\"csgoskins/filtered_items.json\")\n",
        "\n",
        "    if scrape_stickers:\n",
        "        items = read_filtered_items(\"csgoskins/filtered_stickers.json\")\n",
        "\n",
        "    print(\"length of items: \", len(items))\n",
        "\n",
        "    if not os.path.exists(SAVE_DIR):\n",
        "        os.makedirs(SAVE_DIR)\n",
        "\n",
        "    analysis_results = {}\n",
        "\n",
        "    for item in items:\n",
        "        # Ensure that only items with \"sticker\" in the name or link are processed when scrape_stickers is True\n",
        "        if scrape_stickers and (\n",
        "            \"sticker\" not in item[\"name\"].lower()\n",
        "            and \"sticker\" not in item[\"link\"].lower()\n",
        "        ):\n",
        "            continue\n",
        "        try:\n",
        "            print(f\"Fetching images for: {item['name']}\")\n",
        "            image_url = fetch_image_urls(item[\"name\"], item[\"link\"])\n",
        "            if image_url:\n",
        "                item_dir = os.path.join(SAVE_DIR, item[\"name\"].replace(\" \", \"_\"))\n",
        "                if not os.path.exists(item_dir):\n",
        "                    os.makedirs(item_dir)\n",
        "                save_path = os.path.join(item_dir, \"1.png\")\n",
        "                download_image(image_url, save_path)\n",
        "                # Analyze the image and save the result\n",
        "                analysis_result = analyze_image(image_url)\n",
        "                analysis_results[item[\"name\"]] = {\"1.png\": analysis_result}\n",
        "            else:\n",
        "                print(f\"No images found for {item['name']}\")\n",
        "            print()\n",
        "            time.sleep(DELAY)\n",
        "        except Exception as e:\n",
        "            print(f\"Error fetching images for {item['name']}: {e}\")\n",
        "\n",
        "    save_analysis_results(analysis_results, ANALYSIS_FILE)\n",
        "\n",
        "if __name__ == \"__main__\":\n",
        "    parser = argparse.ArgumentParser(description=\"Scrape CS:GO item images.\")\n",
        "    parser.add_argument(\n",
        "        \"--scrape-stickers\",\n",
        "        action=\"store_true\",\n",
        "        help=\"Only scrape stickers if this flag is set.\",\n",
        "    )\n",
        "    args, unknown = parser.parse_known_args()\n",
        "    main(args.scrape_stickers)\n"
      ],
      "metadata": {
        "colab": {
          "base_uri": "https://localhost:8080/"
        },
        "id": "siwBxvwK0qts",
        "outputId": "16f92128-ef68-43c1-debe-6ec8faec79e7"
      },
      "execution_count": null,
      "outputs": [
        {
          "output_type": "stream",
          "name": "stdout",
          "text": [
            "length of items:  1689\n",
            "Fetching images for: M9 Bayonet | Doppler\n"
          ]
        },
        {
          "output_type": "stream",
          "name": "stderr",
          "text": [
            "<ipython-input-38-668a15c7abb8>:51: DeprecationWarning: ANTIALIAS is deprecated and will be removed in Pillow 10 (2023-07-01). Use LANCZOS or Resampling.LANCZOS instead.\n",
            "  img.thumbnail(max_size, Image.ANTIALIAS)\n"
          ]
        },
        {
          "output_type": "stream",
          "name": "stdout",
          "text": [
            "Downloaded and resized image to csgoskins/images/M9_Bayonet_|_Doppler/1.png\n",
            "\n",
            "Fetching images for: Desert Eagle | Printstream\n",
            "Downloaded and resized image to csgoskins/images/Desert_Eagle_|_Printstream/1.png\n",
            "\n",
            "Fetching images for: AK-47 | Inheritance\n",
            "Downloaded and resized image to csgoskins/images/AK-47_|_Inheritance/1.png\n",
            "\n",
            "Fetching images for: Karambit | Doppler\n",
            "Downloaded and resized image to csgoskins/images/Karambit_|_Doppler/1.png\n",
            "\n",
            "Fetching images for: Driver Gloves | Imperial Plaid\n",
            "Downloaded and resized image to csgoskins/images/Driver_Gloves_|_Imperial_Plaid/1.png\n",
            "\n",
            "Fetching images for: Butterfly Knife | Autotronic\n",
            "Downloaded and resized image to csgoskins/images/Butterfly_Knife_|_Autotronic/1.png\n",
            "\n",
            "Fetching images for: AK-47 | Asiimov\n",
            "Downloaded and resized image to csgoskins/images/AK-47_|_Asiimov/1.png\n"
          ]
        }
      ]
    },
    {
      "cell_type": "code",
      "source": [],
      "metadata": {
        "id": "Giwk-gdh3Bdy"
      },
      "execution_count": 37,
      "outputs": []
    },
    {
      "cell_type": "code",
      "source": [],
      "metadata": {
        "id": "OdPZeKu036t8"
      },
      "execution_count": null,
      "outputs": []
    }
  ]
}